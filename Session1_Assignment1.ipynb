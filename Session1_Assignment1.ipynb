{
 "cells": [
  {
   "cell_type": "code",
   "execution_count": 2,
   "metadata": {},
   "outputs": [
    {
     "name": "stdout",
     "output_type": "stream",
     "text": [
      "This is hello world - I am the first program.\n"
     ]
    }
   ],
   "source": [
    "#Task1-Q1\n",
    "me=\"This is hello world\"\n",
    "print(me, \"- I am the first program.\")"
   ]
  },
  {
   "cell_type": "code",
   "execution_count": 11,
   "metadata": {},
   "outputs": [
    {
     "name": "stdout",
     "output_type": "stream",
     "text": [
      "2002,2009,2016,2023,2037,2044,2051,2058,2072,2079,2086,2093,2107,2114,2121,2128,2142,2149,2156,2163,2177,2184,2191,2198,2212,2219,2226,2233,2247,2254,2261,2268,2282,2289,2296,2303,2317,2324,2331,2338,2352,2359,2366,2373,2387,2394,2401,2408,2422,2429,2436,2443,2457,2464,2471,2478,2492,2499,2506,2513,2527,2534,2541,2548,2562,2569,2576,2583,2597,2604,2611,2618,2632,2639,2646,2653,2667,2674,2681,2688,2702,2709,2716,2723,2737,2744,2751,2758,2772,2779,2786,2793,2807,2814,2821,2828,2842,2849,2856,2863,2877,2884,2891,2898,2912,2919,2926,2933,2947,2954,2961,2968,2982,2989,2996,3003,3017,3024,3031,3038,3052,3059,3066,3073,3087,3094,3101,3108,3122,3129,3136,3143,3157,3164,3171,3178,3192,3199,End of list\n"
     ]
    }
   ],
   "source": [
    "#Task1-Q2\n",
    "for i in range(2000,3201):\n",
    "    if i%7==0 and i%5!=0:\n",
    "        print(i,end=\",\")\n",
    "else:\n",
    "    print(\"End of list\")"
   ]
  },
  {
   "cell_type": "code",
   "execution_count": 19,
   "metadata": {},
   "outputs": [
    {
     "name": "stdout",
     "output_type": "stream",
     "text": [
      "Please enter your first name: Sudhanshu\n",
      "Please enter your last name: Kumar\n",
      "Your name in reverse order is:\n",
      "uhsnahduS ramuK\n"
     ]
    }
   ],
   "source": [
    "#Task1-Q3\n",
    "fname=input(\"Please enter your first name: \")\n",
    "lname=input(\"Please enter your last name: \")\n",
    "\n",
    "print(\"Your name in reverse order is:\")\n",
    "print(fname[::-1],lname[::-1])"
   ]
  },
  {
   "cell_type": "code",
   "execution_count": 30,
   "metadata": {},
   "outputs": [
    {
     "name": "stdout",
     "output_type": "stream",
     "text": [
      "The volume of a sphere with diameter 12 cm is : 904.78 cm3\n"
     ]
    }
   ],
   "source": [
    "#Task1-Q4\n",
    "import math\n",
    "dia=12\n",
    "vol=(4/3)*math.pi*(dia/2)**3\n",
    "print(\"The volume of a sphere with diameter\",dia,\"cm is :\",round(vol,2),\"cm3\")"
   ]
  },
  {
   "cell_type": "code",
   "execution_count": null,
   "metadata": {},
   "outputs": [],
   "source": []
  },
  {
   "cell_type": "code",
   "execution_count": 43,
   "metadata": {},
   "outputs": [
    {
     "name": "stdout",
     "output_type": "stream",
     "text": [
      "Please enter sequence of comma-separated numbers: 1,2,3,4,5,6,7,8\n",
      "[1, 2, 3, 4, 5, 6, 7, 8]\n"
     ]
    }
   ],
   "source": [
    "#Task2-Q1\n",
    "numbers=input(\"Please enter sequence of comma-separated numbers: \")\n",
    "num_list=[]\n",
    "for i in numbers.split(','):\n",
    "    num_list.append(int(i))\n",
    "print(num_list)"
   ]
  },
  {
   "cell_type": "code",
   "execution_count": 83,
   "metadata": {},
   "outputs": [
    {
     "name": "stdout",
     "output_type": "stream",
     "text": [
      "*\n",
      "**\n",
      "***\n",
      "****\n",
      "*****\n",
      "****\n",
      "***\n",
      "**\n",
      "*\n"
     ]
    }
   ],
   "source": [
    "#Task2-Q2 - using nested for loop\n",
    "a=\"*\"\n",
    "for i in range(5):\n",
    "    for j in range(i):\n",
    "        print(a,end=\"\")\n",
    "    print(a)\n",
    "for k in range(i,0,-1):\n",
    "    for l in range(k):\n",
    "        print(a,end=\"\")\n",
    "    print()\n"
   ]
  },
  {
   "cell_type": "code",
   "execution_count": 89,
   "metadata": {},
   "outputs": [
    {
     "name": "stdout",
     "output_type": "stream",
     "text": [
      "Please enter your desirable word: AcadGild\n",
      "Your word in reverse is: dliGdacA\n"
     ]
    }
   ],
   "source": [
    "#Task2-Q3\n",
    "word=input(\"Please enter your desirable word: \")\n",
    "\n",
    "print(\"Your word in reverse is:\", word[::-1])\n"
   ]
  },
  {
   "cell_type": "code",
   "execution_count": 122,
   "metadata": {},
   "outputs": [
    {
     "name": "stdout",
     "output_type": "stream",
     "text": [
      "WE, THE PEOPLE OF INDIA, having solemnly resolved to constitute India into a SOVEREIGN, SOCIALIST, SECULAR, DEMOCRATIC REPUBLIC and to secure to all its citizens\n",
      "\n",
      "\n",
      "The formatted sentence is shown below:\n",
      "\n",
      "WE, THE PEOPLE OF INDIA,\n",
      "\thaving solemnly resolved to constitute India into a SOVEREIGN,!\n",
      "\t\tSOCIALIST, SECULAR, DEMOCRATIC REPUBLIC\n",
      "\t\tand to secure to all its citizens.\n"
     ]
    }
   ],
   "source": [
    "#Task2-Q4\n",
    "sentence=\"WE, THE PEOPLE OF INDIA, having solemnly resolved to constitute India into a SOVEREIGN, SOCIALIST, SECULAR, DEMOCRATIC REPUBLIC and to secure to all its citizens\"\n",
    "sen_format=\"WE, THE PEOPLE OF INDIA,{0}having solemnly resolved to constitute India into a SOVEREIGN,!{1}SOCIALIST, SECULAR, DEMOCRATIC REPUBLIC{1}and to secure to all its citizens.\"\n",
    "\n",
    "print(sentence)\n",
    "print(\"\\n\\nThe formatted sentence is shown below:\\n\")\n",
    "print(sen_format.format(\"\\n\\t\",\"\\n\\t\\t\"))\n"
   ]
  },
  {
   "cell_type": "code",
   "execution_count": null,
   "metadata": {},
   "outputs": [],
   "source": []
  }
 ],
 "metadata": {
  "kernelspec": {
   "display_name": "Python 3",
   "language": "python",
   "name": "python3"
  },
  "language_info": {
   "codemirror_mode": {
    "name": "ipython",
    "version": 3
   },
   "file_extension": ".py",
   "mimetype": "text/x-python",
   "name": "python",
   "nbconvert_exporter": "python",
   "pygments_lexer": "ipython3",
   "version": "3.7.3"
  }
 },
 "nbformat": 4,
 "nbformat_minor": 2
}
